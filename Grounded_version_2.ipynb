{
  "nbformat": 4,
  "nbformat_minor": 0,
  "metadata": {
    "colab": {
      "provenance": [],
      "authorship_tag": "ABX9TyOsS6VWD1WguqwzdaptKBuF",
      "include_colab_link": true
    },
    "kernelspec": {
      "name": "python3",
      "display_name": "Python 3"
    },
    "language_info": {
      "name": "python"
    }
  },
  "cells": [
    {
      "cell_type": "markdown",
      "metadata": {
        "id": "view-in-github",
        "colab_type": "text"
      },
      "source": [
        "<a href=\"https://colab.research.google.com/github/khadijabendib/Argumentation/blob/main/Grounded_version_2.ipynb\" target=\"_parent\"><img src=\"https://colab.research.google.com/assets/colab-badge.svg\" alt=\"Open In Colab\"/></a>"
      ]
    },
    {
      "cell_type": "code",
      "execution_count": 1,
      "metadata": {
        "id": "7GX1CRylthr4"
      },
      "outputs": [],
      "source": [
        "# retourner un cycle de des autres cycles\n",
        "def get_cycle_by_element(el,cycle):\n",
        "  for c in cycle:\n",
        "    if el in c:\n",
        "      return c\n",
        "  return []"
      ]
    },
    {
      "cell_type": "code",
      "source": [
        "def search_no_attaquant(list1,cycle):\n",
        "  argument_accepte=[]\n",
        "  for i in range(len(list1)-1):\n",
        "    x=0\n",
        "    for j in range(len(list1)):\n",
        "     if j!=i: \n",
        "      # print(list1[i][0],8888888888)\n",
        "      # print(list1[j][1],999999999)\n",
        "      # print(list1[i][0],\"==============\",list1[j][1])\n",
        "      if list1[i][0]==list1[j][1]:\n",
        "        x=1\n",
        "        # print(list1[i][0],\"deja attaqué\")\n",
        "    if x==0:\n",
        "      c=get_cycle_by_element(list1[i][0],cycle)\n",
        "      taille=len(c)\n",
        "      if taille==0:\n",
        "        argument_accepte.append(list1[i][0])\n",
        "        \n",
        "      else:\n",
        "        print(\"il se trouve dans le cycle\")\n",
        "  return argument_accepte"
      ],
      "metadata": {
        "id": "AeF_nqEgtklC"
      },
      "execution_count": 2,
      "outputs": []
    },
    {
      "cell_type": "code",
      "source": [
        "def list_to_dic(list2):\n",
        "    \"\"\"\n",
        "    Convertit une liste de relations en un dictionnaire.\n",
        "\n",
        "    Args:\n",
        "    list2: une liste de tuples de deux éléments représentant les relations à convertir.\n",
        "\n",
        "    Returns:\n",
        "    Un dictionnaire où les clés sont les éléments attaquants et les valeurs sont les éléments attaqués.\n",
        "    \"\"\"\n",
        "    dico={}\n",
        "    for relation in list2:\n",
        "        attaquant = relation[0]\n",
        "        attaque = relation[1]\n",
        "        if attaquant in dico:\n",
        "            dico[attaquant].append(attaque)\n",
        "        else:\n",
        "            dico[attaquant] = [attaque]\n",
        "    return dico"
      ],
      "metadata": {
        "id": "1Lj0bWBltnLs"
      },
      "execution_count": 3,
      "outputs": []
    },
    {
      "cell_type": "code",
      "source": [
        "def find_cycles(dico):\n",
        "    \"\"\"\n",
        "    Trouve tous les cycles dans un dictionnaire.\n",
        "\n",
        "    Args:\n",
        "    dico: un dictionnaire où les clés sont les éléments attaquants et les valeurs sont les éléments attaqués.\n",
        "\n",
        "    Returns:\n",
        "    Une liste de cycles, où chaque cycle est une liste d'éléments.\n",
        "    \"\"\"\n",
        "    cycles = []\n",
        "    visited = set()\n",
        "    for node in dico:\n",
        "        if node not in visited:\n",
        "            stack = [(node, [])]\n",
        "            while stack:\n",
        "                curr, path = stack.pop()\n",
        "                if curr in visited:\n",
        "                    continue\n",
        "                visited.add(curr)\n",
        "                path.append(curr)\n",
        "                for neighbor in dico.get(curr, []):\n",
        "                    index = path.index(neighbor) if neighbor in path else -1\n",
        "                    if index >= 0:\n",
        "                        cycle = path[index:]\n",
        "                        if cycle not in cycles:\n",
        "                            cycles.append(cycle)\n",
        "                    else:\n",
        "                        stack.append((neighbor, path[:]))\n",
        "    return cycles"
      ],
      "metadata": {
        "id": "14KyEBIettu7"
      },
      "execution_count": 4,
      "outputs": []
    },
    {
      "cell_type": "code",
      "source": [
        "def localisation(list2):\n",
        "    \"\"\"\n",
        "    Vérifie si la liste donnée commence par un cycle.\n",
        "\n",
        "    Args:\n",
        "    list2: une liste de tuples de deux éléments représentant les relations à vérifier.\n",
        "\n",
        "    Returns:\n",
        "    True si la liste commence par un cycle, False sinon.\n",
        "    \"\"\"\n",
        "    dico = {}\n",
        "    for relation in list2:\n",
        "        attaquant = relation[0]\n",
        "        attaque = relation[1]\n",
        "        if attaquant in dico:\n",
        "            dico[attaquant].append(attaque)\n",
        "        else:\n",
        "            dico[attaquant] = [attaque]\n",
        "\n",
        "    visited = set()\n",
        "    for node in dico:\n",
        "        if node not in visited:\n",
        "            stack = [(node, [])]\n",
        "            while stack:\n",
        "                curr, path = stack.pop()\n",
        "                if curr in visited:\n",
        "                    continue\n",
        "                visited.add(curr)\n",
        "                path.append(curr)\n",
        "                for neighbor in dico.get(curr, []):\n",
        "                    index = path.index(neighbor) if neighbor in path else -1\n",
        "                    if index >= 0:\n",
        "                        cycle = path[index:]\n",
        "                        if len(cycle) > 1 and cycle[0] == cycle[-1]:\n",
        "                            if cycle[0] == node:\n",
        "                                return True\n",
        "                    else:\n",
        "                        stack.append((neighbor, path[:]))\n",
        "    return False\n",
        "list2 = [('f', 'e'), ('e', 'd'), ('c', 'd'), ('a', 'b'),('b','a'),('a','c'),('b','c')]\n",
        "print(localisation(list2))"
      ],
      "metadata": {
        "colab": {
          "base_uri": "https://localhost:8080/"
        },
        "id": "33kySebavaRb",
        "outputId": "8a792376-4084-47ea-e366-bd049956f365"
      },
      "execution_count": 5,
      "outputs": [
        {
          "output_type": "stream",
          "name": "stdout",
          "text": [
            "False\n"
          ]
        }
      ]
    },
    {
      "cell_type": "code",
      "source": [
        "\n",
        "def Grounded(list2,Arguments):\n",
        "  argument_accepte=[]\n",
        "  argument_no_accept=[]\n",
        "  dictionnaire=list_to_dic(list2)\n",
        "  cycle=find_cycles(dictionnaire)\n",
        "  if localisation(list2)==True:\n",
        "    # print(cycle[0])\n",
        "    if len(cycle[0])>=2:\n",
        "      print('hi')\n",
        "      return []\n",
        "  else:\n",
        "      argument_accepte=search_no_attaquant(list2,cycle)\n",
        "      for argument in argument_accepte:\n",
        "        for i in range(len(list2)):\n",
        "          if argument==list2[i][0]:\n",
        "            taille=len(get_cycle_by_element(list2[i][1],cycle))\n",
        "            if taille==0:\n",
        "              if list2[i][1] not in argument_no_accept:\n",
        "                argument_no_accept.append(list2[i][1])\n",
        "            else:\n",
        "                if taille==2:\n",
        "                   if list2[i-1][1] in argument_accepte:\n",
        "                       argument_no_accept.append(list2[i][1])\n",
        "\n",
        "      for argument in argument_no_accept:\n",
        "        for i in range(len(list2)):\n",
        "          if list2[i][0]==argument:\n",
        "            taille2=len(get_cycle_by_element(list2[i][1],cycle))\n",
        "            if taille2==0 :\n",
        "              if list2[i][1] not in argument_accepte:\n",
        "                 argument_accepte.append(list2[i][1])\n",
        "            # else:\n",
        "            #     if taille2 ==2:\n",
        "\n",
        "\n",
        "      for i in range(len(list2)):\n",
        "        x=0\n",
        "        for j in range(len(list2)):\n",
        "          if j!=i:\n",
        "            if list2[i][0]==list2[j][1]:\n",
        "                 x=1\n",
        "        if x==0:\n",
        "          c=get_cycle_by_element(list2[i][0],cycle)\n",
        "          taille3=len(c)\n",
        "          if taille3==0 or taille3==2:\n",
        "          #  if taille3==0:\n",
        "            if list2[i][0] not in argument_accepte:\n",
        "             argument_accepte.append(list2[i][0])\n",
        "          else:\n",
        "            for argument in argument_accepte:\n",
        "               for i in range(len(list2)):\n",
        "                  if argument==list2[i][0]:\n",
        "                     taille=len(get_cycle_by_element(argument,cycle))\n",
        "                     if taille==0:\n",
        "                      if list2[i][1] not in argument_no_accept:\n",
        "                       argument_no_accept.append(list2[i][1])\n",
        "                     else:\n",
        "                        if taille==2:\n",
        "                            if list2[i-1][1] in argument_accepte:\n",
        "                                 argument_no_accept.append(list2[i][1])\n",
        "  for argument in argument_accepte:\n",
        "               for i in range(len(list2)):\n",
        "                  if argument==list2[i][0]:\n",
        "                     taille=len(get_cycle_by_element(list2[i][1],cycle))\n",
        "                     if taille==0 :\n",
        "                      if list2[i][1] not in argument_no_accept:\n",
        "                       argument_no_accept.append(list2[i][1])\n",
        "                     else:\n",
        "                         if taille==2:\n",
        "                             if list2[i-1][1] in argument_accepte:\n",
        "                                 argument_no_accept.append(list2[i][1])\n",
        "\n",
        "  return argument_accepte,argument_no_accept"
      ],
      "metadata": {
        "id": "Znq9-bVivo05"
      },
      "execution_count": 9,
      "outputs": []
    },
    {
      "cell_type": "code",
      "source": [],
      "metadata": {
        "id": "t9wVG9jeNH6n"
      },
      "execution_count": null,
      "outputs": []
    },
    {
      "cell_type": "code",
      "source": [
        "Arguments=['a','f','e','d']\n",
        "list2 = [('a','f'),('f', 'e'), ('e', 'd'), ('d','e')]\n",
        "Argument_accepte,Argument_no_accepte=Grounded(list2,Arguments)\n",
        "print(Grounded(list2,Arguments))"
      ],
      "metadata": {
        "colab": {
          "base_uri": "https://localhost:8080/"
        },
        "id": "WcHIursqvuOu",
        "outputId": "ef4c4cba-8938-4bad-fcff-a9868fe3cb3e"
      },
      "execution_count": 10,
      "outputs": [
        {
          "output_type": "stream",
          "name": "stdout",
          "text": [
            "(['a'], ['f'])\n"
          ]
        }
      ]
    },
    {
      "cell_type": "code",
      "source": [
        "import networkx as nx\n",
        "import matplotlib.pyplot as plt\n",
        "\n",
        "# Créer un graphe dirigé\n",
        "G = nx.DiGraph()\n",
        "\n",
        "# Ajouter les noeuds correspondant aux lettres\n",
        "for lettre in Arguments:\n",
        "    G.add_node(lettre)\n",
        "\n",
        "# Ajouter les arêtes entre les noeuds\n",
        "for i in range(len(list2)):\n",
        "  G.add_edge(list2[i][0],list2[i][1])\n",
        "\n",
        "\n",
        "# Dessiner le graphe\n",
        "pos = nx.circular_layout(G)  # Positionner les noeuds en cercle\n",
        "node_colors = ['blue' if n in Argument_accepte else 'lightblue' if n in Argument_no_accepte else 'red' for n in G.nodes()]\n",
        "nx.draw_networkx_nodes(G, pos=pos, node_color=node_colors)\n",
        "nx.draw_networkx_labels(G, pos)\n",
        "nx.draw_networkx_edges(G, pos=pos, arrows=True)\n",
        "plt.show()\n",
        "     "
      ],
      "metadata": {
        "colab": {
          "base_uri": "https://localhost:8080/",
          "height": 406
        },
        "id": "6MrfmXUn4OrR",
        "outputId": "7851f892-8d86-4237-988b-5c157beab74d"
      },
      "execution_count": null,
      "outputs": [
        {
          "output_type": "display_data",
          "data": {
            "text/plain": [
              "<Figure size 640x480 with 1 Axes>"
            ],
            "image/png": "[encoded data removed]"
          },
          "metadata": {}
        }
      ]
    }
  ]
}