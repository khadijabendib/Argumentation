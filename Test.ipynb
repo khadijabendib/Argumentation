{
  "nbformat": 4,
  "nbformat_minor": 0,
  "metadata": {
    "colab": {
      "provenance": [],
      "authorship_tag": "ABX9TyNlmxobuFEMIUoYYfvQyJvr",
      "include_colab_link": true
    },
    "kernelspec": {
      "name": "python3",
      "display_name": "Python 3"
    },
    "language_info": {
      "name": "python"
    }
  },
  "cells": [
    {
      "cell_type": "markdown",
      "metadata": {
        "id": "view-in-github",
        "colab_type": "text"
      },
      "source": [
        "<a href=\"https://colab.research.google.com/github/khadijabendib/Argumentation/blob/main/Test.ipynb\" target=\"_parent\"><img src=\"https://colab.research.google.com/assets/colab-badge.svg\" alt=\"Open In Colab\"/></a>"
      ]
    },
    {
      "cell_type": "code",
      "source": [
        "def search_no_attaquant1(list1,cycle):\n",
        "  argument_accepte=[]\n",
        "  argument_no_accepte=[]\n",
        "  for i in range(len(list1)):\n",
        "    x=0\n",
        "    for j in range(len(list1)):\n",
        "     if j!=i: \n",
        "      if list1[i][0]==list1[j][1]:\n",
        "        x=1\n",
        "        # print(list1[i][0],\"deja attaqué\")\n",
        "    if x==0:\n",
        "      c=get_cycle_by_element(list1[i][0],cycle)\n",
        "      taille=len(c)\n",
        "      if taille==0:\n",
        "        argument_accepte.append(list1[i][0])\n",
        "        m=get_cycle_by_element(list1[i][1],cycle)\n",
        "        if len(m)<=2:\n",
        "          argument_no_accepte.append(list1[i][1])\n",
        "      else:\n",
        "        print(\"il se trouve dans le cycle\")\n",
        "  return argument_accepte,argument_no_accepte"
      ],
      "metadata": {
        "id": "SBiZj255DeFS"
      },
      "execution_count": 35,
      "outputs": []
    },
    {
      "cell_type": "code",
      "source": [
        "# retourner un cycle de des autres cycles\n",
        "def get_cycle_by_element(el,cycle):\n",
        "  for c in cycle:\n",
        "    if el in c:\n",
        "      return c\n",
        "  return []"
      ],
      "metadata": {
        "id": "o9x5jvaHEJ_d"
      },
      "execution_count": 36,
      "outputs": []
    },
    {
      "cell_type": "code",
      "source": [
        "def find_cycles(dico):\n",
        "    \"\"\"\n",
        "    Trouve tous les cycles dans un dictionnaire.\n",
        "\n",
        "    Args:\n",
        "    dico: un dictionnaire où les clés sont les éléments attaquants et les valeurs sont les éléments attaqués.\n",
        "\n",
        "    Returns:\n",
        "    Une liste de cycles, où chaque cycle est une liste d'éléments.\n",
        "    \"\"\"\n",
        "    cycles = []\n",
        "    visited = set()\n",
        "    for node in dico:\n",
        "        if node not in visited:\n",
        "            stack = [(node, [])]\n",
        "            while stack:\n",
        "                curr, path = stack.pop()\n",
        "                if curr in visited:\n",
        "                    continue\n",
        "                visited.add(curr)\n",
        "                path.append(curr)\n",
        "                for neighbor in dico.get(curr, []):\n",
        "                    index = path.index(neighbor) if neighbor in path else -1\n",
        "                    if index >= 0:\n",
        "                        cycle = path[index:]\n",
        "                        if cycle not in cycles:\n",
        "                            cycles.append(cycle)\n",
        "                    else:\n",
        "                        stack.append((neighbor, path[:]))\n",
        "    return cycles\n"
      ],
      "metadata": {
        "id": "SJ44blQ3ENCn"
      },
      "execution_count": 37,
      "outputs": []
    },
    {
      "cell_type": "code",
      "source": [
        "def localisation(list2):\n",
        "    \"\"\"\n",
        "    Vérifie si la liste donnée commence par un cycle.\n",
        "\n",
        "    Args:\n",
        "    list2: une liste de tuples de deux éléments représentant les relations à vérifier.\n",
        "\n",
        "    Returns:\n",
        "    True si la liste commence par un cycle, False sinon.\n",
        "    \"\"\"\n",
        "    dico = {}\n",
        "    for relation in list2:\n",
        "        attaquant = relation[0]\n",
        "        attaque = relation[1]\n",
        "        if attaquant in dico:\n",
        "            dico[attaquant].append(attaque)\n",
        "        else:\n",
        "            dico[attaquant] = [attaque]\n",
        "\n",
        "    visited = set()\n",
        "    for node in dico:\n",
        "        if node not in visited:\n",
        "            stack = [(node, [])]\n",
        "            while stack:\n",
        "                curr, path = stack.pop()\n",
        "                if curr in visited:\n",
        "                    # Si on rencontre un noeud visité précédemment, on a détecté un cycle\n",
        "                    if curr == node:\n",
        "                        return True\n",
        "                    continue\n",
        "                visited.add(curr)\n",
        "                path.append(curr)\n",
        "                for neighbor in dico.get(curr, []):\n",
        "                    stack.append((neighbor, path[:]))\n",
        "    return False\n"
      ],
      "metadata": {
        "id": "_Qeol2WBE9L3"
      },
      "execution_count": 38,
      "outputs": []
    },
    {
      "cell_type": "code",
      "source": [
        " # while (len(argument_accepte1)+len(argument_no_accept1))<len(Arguments):\n",
        "  #    for argument in argument_accepte1:\n",
        "  #     for i in range(len(list1)):\n",
        "  #       if list1[i][0]==argument:\n",
        "  #         if list1[i][1] not in argument_no_accept1 and list1[i][1] not in argument_accepte1:\n",
        "  #          argument_no_accept1.append(list1[i][1])\n",
        "  #    for arg in argument_no_accept1:\n",
        "  #     for i in range(len(list1)):\n",
        "  #       if list1[i][0]==arg:\n",
        "  #         if list1[i][1] not in argument_accepte1 and list1[i][1] not in argument_no_accept1:\n",
        "  #          argument_accepte1.append(list1[i][1]) "
      ],
      "metadata": {
        "id": "JptkgrDhIJvF"
      },
      "execution_count": 39,
      "outputs": []
    },
    {
      "cell_type": "code",
      "source": [
        "def list_to_dic(list2):\n",
        "    \"\"\"\n",
        "    Convertit une liste de relations en un dictionnaire.\n",
        "\n",
        "    Args:\n",
        "    list2: une liste de tuples de deux éléments représentant les relations à convertir.\n",
        "\n",
        "    Returns:\n",
        "    Un dictionnaire où les clés sont les éléments attaquants et les valeurs sont les éléments attaqués.\n",
        "    \"\"\"\n",
        "    dico={}\n",
        "    for relation in list2:\n",
        "        attaquant = relation[0]\n",
        "        attaque = relation[1]\n",
        "        if attaquant in dico:\n",
        "            dico[attaquant].append(attaque)\n",
        "        else:\n",
        "            dico[attaquant] = [attaque]\n",
        "    return dico"
      ],
      "metadata": {
        "id": "fUYyhyDbFR-b"
      },
      "execution_count": 40,
      "outputs": []
    },
    {
      "cell_type": "code",
      "execution_count": 41,
      "metadata": {
        "id": "vCp9v8ei5S9E"
      },
      "outputs": [],
      "source": [
        "def complete1(list1,Arguments):\n",
        "  argument_accepte1=[]\n",
        "  argument_no_accept1=[]\n",
        "  dictionnaire=list_to_dic(list1)\n",
        "  cycle=find_cycles(dictionnaire)\n",
        "  argument_accepte1,argument_no_accept1=search_no_attaquant1(list1,cycle)\n",
        "  print(argument_accepte1)\n",
        "  print(localisation(list1))\n",
        "  if localisation(list1)==True:\n",
        "    taille1=len(get_cycle_by_element(list1[0][0],cycle))\n",
        "    if taille1<=2:\n",
        "              argument_accepte1.append(list1[0][0])\n",
        "              argument_no_accept1.append(list1[0][1])\n",
        "  M=len(Arguments)\n",
        "  for c in cycle:\n",
        "    if len(c)>2:\n",
        "      M-=len(c)\n",
        "  while (len(argument_accepte1)+len(argument_no_accept1))<M:\n",
        "     for argument in argument_accepte1:\n",
        "       for i in range(len(list1)):\n",
        "         if list1[i][0]==argument:\n",
        "           c=get_cycle_by_element(argument,cycle)\n",
        "           if len(c)<=2:\n",
        "             if list1[i][1] not in argument_no_accept1 and list1[i][1] not in argument_accepte1:\n",
        "               l=get_cycle_by_element(list1[i][1],cycle)\n",
        "               if len(l)<=2:\n",
        "                 argument_no_accept1.append(list1[i][1])\n",
        "\n",
        "     for arg in argument_no_accept1:\n",
        "       for i in range(len(list1)):\n",
        "         if list1[i][0]==arg:\n",
        "           c=get_cycle_by_element(arg,cycle)\n",
        "           if len(c)<=2:\n",
        "             if list1[i][1] not in argument_accepte1 and list1[i][1] not in argument_no_accept1:\n",
        "               l=get_cycle_by_element(list1[i][1],cycle)\n",
        "               if len(l)<=2:\n",
        "                 argument_accepte1.append(list1[i][1]) \n",
        "\n",
        "  return  argument_accepte1,argument_no_accept1"
      ]
    },
    {
      "cell_type": "code",
      "source": [
        "print(complete1([('a', 'b'), ('b', 'a'), ('b','c'), ('c', 'd'),('d','e'),('e','r'),('r','s'),('s','e'),('f','s')]\n",
        ",['a','b','c','d','e','r','s','f']))"
      ],
      "metadata": {
        "colab": {
          "base_uri": "https://localhost:8080/"
        },
        "id": "UdhQKHunFZQQ",
        "outputId": "07c7d86b-2063-4c21-c107-4dc757a66a0c"
      },
      "execution_count": 43,
      "outputs": [
        {
          "output_type": "stream",
          "name": "stdout",
          "text": [
            "['f']\n",
            "True\n",
            "(['f', 'a', 'c'], ['b', 'd'])\n"
          ]
        }
      ]
    },
    {
      "cell_type": "code",
      "source": [
        "def complete2(list1,Arguments):\n",
        "  argument_accepte1=[]\n",
        "  argument_no_accept1=[]\n",
        "  dictionnaire=list_to_dic(list1)\n",
        "  cycle=find_cycles(dictionnaire)\n",
        "  argument_accepte1,argument_no_accept1=search_no_attaquant1(list1,cycle)\n",
        "  print(argument_accepte1)\n",
        "  print(localisation(list1))\n",
        "  if localisation(list1)==True:\n",
        "    taille1=len(get_cycle_by_element(list1[0][0],cycle))\n",
        "    if taille1<=2:\n",
        "              argument_accepte1.append(list1[0][1])\n",
        "              argument_no_accept1.append(list1[0][0])\n",
        "  # for p in range(55):\n",
        "  M=len(Arguments)\n",
        "  for c in cycle:\n",
        "    if len(c)>2:\n",
        "      M-=len(c)\n",
        "  while (len(argument_accepte1)+len(argument_no_accept1))<M:\n",
        "     for argument in argument_accepte1:\n",
        "       for i in range(len(list1)):\n",
        "         if list1[i][0]==argument:\n",
        "           c=get_cycle_by_element(argument,cycle)\n",
        "           if len(c)<=2:\n",
        "             if list1[i][1] not in argument_no_accept1 and list1[i][1] not in argument_accepte1:\n",
        "               l=get_cycle_by_element(list1[i][1],cycle)\n",
        "               if len(l)<=2:\n",
        "                 argument_no_accept1.append(list1[i][1])\n",
        "\n",
        "     for arg in argument_no_accept1:\n",
        "       for i in range(len(list1)):\n",
        "         if list1[i][0]==arg:\n",
        "           c=get_cycle_by_element(arg,cycle)\n",
        "           if len(c)<=2:\n",
        "             if list1[i][1] not in argument_accepte1 and list1[i][1] not in argument_no_accept1:\n",
        "               l=get_cycle_by_element(list1[i][1],cycle)\n",
        "               if len(l)<=2:\n",
        "                 argument_accepte1.append(list1[i][1]) \n",
        "\n",
        "  return  argument_accepte1,argument_no_accept1"
      ],
      "metadata": {
        "id": "4aPq2udyaw7L"
      },
      "execution_count": 44,
      "outputs": []
    },
    {
      "cell_type": "code",
      "source": [
        "print(complete2([('a', 'b'), ('b', 'a'), ('b','c'), ('c', 'd'),('d','e'),('e','r'),('r','s'),('s','e'),('f','s')]\n",
        ",['a','b','c','d','e','r','s','f']))"
      ],
      "metadata": {
        "colab": {
          "base_uri": "https://localhost:8080/"
        },
        "id": "Rw_vny4k5eb4",
        "outputId": "e2fc436b-b87c-4d17-9c10-4a68ee6ea54f"
      },
      "execution_count": 45,
      "outputs": [
        {
          "output_type": "stream",
          "name": "stdout",
          "text": [
            "['f']\n",
            "True\n",
            "(['f', 'b', 'd'], ['a', 'c'])\n"
          ]
        }
      ]
    },
    {
      "cell_type": "code",
      "source": [
        "def complete2(list1,Arguments):\n",
        "  argument_accepte1=[] \n",
        "  argument_no_accept1=[]\n",
        "  dictionnaire=list_to_dic(list1) \n",
        "  cycle=find_cycles(dictionnaire)\n",
        "  argument_accepte1,argument_no_accept1=search_no_attaquant1(list1,cycle)\n",
        "  print(argument_accepte1)\n",
        "  print(localisation(list1))\n",
        "  if localisation(list1)==True:\n",
        "   taille1=len(get_cycle_by_element(list1[0][0],cycle))\n",
        "   if taille1<=2:\n",
        "              argument_accepte1.append(list1[0][1])\n",
        "              argument_no_accept1.append(list1[0][0])\n",
        "  # l=(len(argument_accepte1)+len(argument_no_accept1))<len(Arguments)\n",
        "  # print(l,888888888)\n",
        "  # while l:\n",
        "  for p in range(55):\n",
        "     for argument in argument_accepte1:\n",
        "      for i in range(len(list1)):\n",
        "        if list1[i][0]==argument:\n",
        "           c=get_cycle_by_element(argument,cycle)\n",
        "           print(c,'ccccccccccc')\n",
        "           if len(c)<=2:\n",
        "             if list1[i][1] not in argument_no_accept1 and list1[i][1] not in argument_accepte1:\n",
        "                argument_no_accept1.append(list1[i][1])\n",
        "     for arg in argument_no_accept1:\n",
        "      for i in range(2,len(list1)):\n",
        "        if list1[i][0]==arg:\n",
        "          c=get_cycle_by_element(arg,cycle)\n",
        "          if len(c)<=2:\n",
        "           if list1[i][1] not in argument_accepte1 and list1[i][1] not in argument_no_accept1:\n",
        "            argument_accepte1.append(list1[i][1]) \n",
        "     break\n",
        "  return  argument_accepte1,argument_no_accept1"
      ],
      "metadata": {
        "id": "KCjIOzdrTRch"
      },
      "execution_count": 21,
      "outputs": []
    },
    {
      "cell_type": "code",
      "source": [],
      "metadata": {
        "id": "wCvUhNKM6H4h"
      },
      "execution_count": null,
      "outputs": []
    }
  ]
}