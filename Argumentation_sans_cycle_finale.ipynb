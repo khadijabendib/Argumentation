{
  "nbformat": 4,
  "nbformat_minor": 0,
  "metadata": {
    "colab": {
      "provenance": [],
      "authorship_tag": "ABX9TyOnPLtwk9Lc0Z6kPV31ciDC",
      "include_colab_link": true
    },
    "kernelspec": {
      "name": "python3",
      "display_name": "Python 3"
    },
    "language_info": {
      "name": "python"
    }
  },
  "cells": [
    {
      "cell_type": "markdown",
      "metadata": {
        "id": "view-in-github",
        "colab_type": "text"
      },
      "source": [
        "<a href=\"https://colab.research.google.com/github/khadijabendib/Argumentation/blob/main/Argumentation_sans_cycle_finale.ipynb\" target=\"_parent\"><img src=\"https://colab.research.google.com/assets/colab-badge.svg\" alt=\"Open In Colab\"/></a>"
      ]
    },
    {
      "cell_type": "code",
      "source": [
        "# Arguments=['a','b','c','e','f','l']\n",
        "\n",
        "# list2=[]\n",
        "# list2.append(('a', 'b'))\n",
        "# list2.append(('b', 'c'))\n",
        "# list2.append(('c', 'l'))\n",
        "# list2.append(('e', 'f'))\n",
        "# list2.append(('l', 'm'))\n",
        "# list2.append(('f', 'l'))\n",
        "\n",
        "# list2\n"
      ],
      "metadata": {
        "id": "ax8qyyGkStei",
        "outputId": "b30aef2f-4e06-4695-e37a-d6c3b36b676e",
        "colab": {
          "base_uri": "https://localhost:8080/"
        }
      },
      "execution_count": 21,
      "outputs": [
        {
          "output_type": "execute_result",
          "data": {
            "text/plain": [
              "[('a', 'b'), ('b', 'c'), ('c', 'l'), ('e', 'f'), ('l', 'm'), ('f', 'l')]"
            ]
          },
          "metadata": {},
          "execution_count": 21
        }
      ]
    },
    {
      "cell_type": "code",
      "source": [
        "n=int(input(\"Bonjour,Veuillez donner le nombre des arguments:\"))\n",
        "Arguments=[]\n",
        "for i in range(n):\n",
        "  x=input(\"Donne moi le nom de {} : \".format(i+1))\n",
        "  Arguments.append(x)\n",
        "  "
      ],
      "metadata": {
        "id": "Mm_J3dx9Sz5f"
      },
      "execution_count": null,
      "outputs": []
    },
    {
      "cell_type": "code",
      "source": [
        "list2=[]\n",
        "for i in (Arguments):\n",
        "  for j in (Arguments):\n",
        "    if i!=j:\n",
        "      m=input(\"Est ce que {} \".format(i)+\"  attaque {} \".format(j))\n",
        "      while m!=\"oui\" and m!=\"non\":\n",
        "        m=input(\"Est ce que {} \".format(i)+\"  attaque {} (répondez par oui ou non ): \".format(j))\n",
        "      if m==\"oui\":\n",
        "        # if check_cycle(list2,(i,j))==True:\n",
        "        #   print(\"Il y aura un cycle donc cette relation ne sera pas prise en compte\")\n",
        "        # else:\n",
        "         list2.append((i,j))\n",
        "        "
      ],
      "metadata": {
        "id": "e6Mx2UWdS3wA"
      },
      "execution_count": null,
      "outputs": []
    },
    {
      "cell_type": "code",
      "execution_count": 18,
      "metadata": {
        "id": "4ZVU-vsbREwK"
      },
      "outputs": [],
      "source": [
        "\n",
        "\n",
        "Argument_accepte=[]\n",
        "Argument_no_accepte=[]\n",
        "\n",
        "\n",
        "\n",
        "for argument in Arguments:\n",
        "  x=0\n",
        "  for j in range(len(list2)):\n",
        "    if list2[j][1]==argument:\n",
        "      x=1\n",
        "  if x==0:\n",
        "    if argument not in Argument_accepte:\n",
        "      Argument_accepte.append(argument)\n",
        "\n",
        "for argument in Argument_accepte:\n",
        "    for i in range(len(list2)):\n",
        "      if list2[i][0]==argument:\n",
        "        if list2[i][1] not in Argument_no_accepte:\n",
        "           Argument_no_accepte.append(list2[i][1])\n",
        "\n",
        "while (len(Argument_accepte)+len(Argument_no_accepte))<len(Arguments):\n",
        "            for argument in Argument_accepte:\n",
        "                for i in range(len(list2)):\n",
        "                    if list2[i][0]==argument:\n",
        "                        if list2[i][1] not in Argument_no_accepte:\n",
        "                                Argument_no_accepte.append(list2[i][1])\n",
        "            for arg in Argument_no_accepte:\n",
        "                for i in range(len(list2)):\n",
        "                    if list2[i][0]==arg:\n",
        "                        v=0\n",
        "                        for j in range(len(list2)):\n",
        "                            if list2[i][1]==list2[j][1] and list2[j][0]!=list2[i][0]:\n",
        "                                v=1\n",
        "                        if v==0:\n",
        "                            if list2[i][1] not in Argument_accepte:\n",
        "                               Argument_accepte.append(list2[i][1]) \n"
      ]
    },
    {
      "cell_type": "code",
      "source": [
        "Argument_accepte,Argument_no_accepte"
      ],
      "metadata": {
        "id": "XeFM-QCLwMRA",
        "outputId": "17ed53c8-e519-43c7-8823-2d2db0496736",
        "colab": {
          "base_uri": "https://localhost:8080/"
        }
      },
      "execution_count": 19,
      "outputs": [
        {
          "output_type": "execute_result",
          "data": {
            "text/plain": [
              "(['a', 'e', 'c', 'm'], ['b', 'f', 'l'])"
            ]
          },
          "metadata": {},
          "execution_count": 19
        }
      ]
    },
    {
      "cell_type": "code",
      "source": [
        "print(\"Grounded semantic\",Argument_accepte)\n",
        "print(\"Completed semantic\",Argument_accepte)\n",
        "print(\"Prefered semantic\",Argument_accepte)"
      ],
      "metadata": {
        "id": "rWYftvCTTPu1",
        "outputId": "2bd0827a-311e-4182-976b-fb5f389fae82",
        "colab": {
          "base_uri": "https://localhost:8080/"
        }
      },
      "execution_count": 23,
      "outputs": [
        {
          "output_type": "stream",
          "name": "stdout",
          "text": [
            "Grounded semantic ['a', 'e', 'c', 'm']\n",
            "Completed semantic ['a', 'e', 'c', 'm']\n",
            "Prefered semantic ['a', 'e', 'c', 'm']\n"
          ]
        }
      ]
    },
    {
      "cell_type": "code",
      "source": [
        "import networkx as nx\n",
        "import matplotlib.pyplot as plt\n",
        "\n",
        "# Créer un graphe dirigé\n",
        "G = nx.DiGraph()\n",
        "\n",
        "# Ajouter les noeuds correspondant aux lettres\n",
        "for lettre in Arguments:\n",
        "    G.add_node(lettre)\n",
        "\n",
        "# Ajouter les arêtes entre les noeuds\n",
        "for i in range(len(list2)):\n",
        "  G.add_edge(list2[i][0],list2[i][1])\n",
        "\n",
        "\n",
        "# Dessiner le graphe\n",
        "pos = nx.circular_layout(G)  # Positionner les noeuds en cercle\n",
        "node_colors = ['blue' if n in Argument_accepte else 'lightblue' if n in Argument_no_accepte else 'blue' for n in G.nodes()]\n",
        "nx.draw_networkx_nodes(G, pos=pos, node_color=node_colors)\n",
        "nx.draw_networkx_labels(G, pos)\n",
        "nx.draw_networkx_edges(G, pos=pos, arrows=True)\n",
        "plt.show()"
      ],
      "metadata": {
        "colab": {
          "base_uri": "https://localhost:8080/",
          "height": 406
        },
        "id": "sFcrMyp1RVeS",
        "outputId": "b4f14dcc-4d28-4de2-9a6c-1e3c448e29b0"
      },
      "execution_count": 20,
      "outputs": [
        {
          "output_type": "display_data",
          "data": {
            "text/plain": [
              "<Figure size 640x480 with 1 Axes>"
            ],
            "image/png": "[encoded data removed]"
          },
          "metadata": {}
        }
      ]
    }
  ]
}